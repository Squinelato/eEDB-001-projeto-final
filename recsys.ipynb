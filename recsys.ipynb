{
 "cells": [
  {
   "cell_type": "markdown",
   "metadata": {},
   "source": [
    "# RecSys\n",
    "Modelo do tipo recuperação"
   ]
  },
  {
   "cell_type": "markdown",
   "metadata": {},
   "source": [
    "## Importando bibliotecas necessárias"
   ]
  },
  {
   "cell_type": "code",
   "execution_count": 2,
   "metadata": {},
   "outputs": [],
   "source": [
    "from sklearn import model_selection, metrics, preprocessing\n",
    "from torch.utils.data import Dataset, DataLoader\n",
    "\n",
    "import matplotlib.pyplot as plt\n",
    "import torch.nn as nn\n",
    "import pandas as pd\n",
    "import numpy as np\n",
    "import torch"
   ]
  },
  {
   "cell_type": "markdown",
   "metadata": {},
   "source": [
    "## Carregando dados do dataset de avaliações de filmes"
   ]
  },
  {
   "cell_type": "code",
   "execution_count": 3,
   "metadata": {},
   "outputs": [
    {
     "name": "stdout",
     "output_type": "stream",
     "text": [
      "<class 'pandas.core.frame.DataFrame'>\n",
      "RangeIndex: 100965 entries, 0 to 100964\n",
      "Data columns (total 5 columns):\n",
      " #   Column                    Non-Null Count   Dtype \n",
      "---  ------                    --------------   ----- \n",
      " 0   customer_id               100965 non-null  object\n",
      " 1   product_id                100965 non-null  object\n",
      " 2   customer_zip_code_prefix  100965 non-null  int64 \n",
      " 3   product_category_name     100965 non-null  object\n",
      " 4   purchase_count            100965 non-null  int64 \n",
      "dtypes: int64(2), object(3)\n",
      "memory usage: 3.9+ MB\n"
     ]
    }
   ],
   "source": [
    "df_olist_txn = pd.read_csv('data/olist/rfzd_olist_transactions.csv')\n",
    "df_olist_txn.info()"
   ]
  },
  {
   "cell_type": "code",
   "execution_count": 4,
   "metadata": {},
   "outputs": [
    {
     "data": {
      "text/html": [
       "<div>\n",
       "<style scoped>\n",
       "    .dataframe tbody tr th:only-of-type {\n",
       "        vertical-align: middle;\n",
       "    }\n",
       "\n",
       "    .dataframe tbody tr th {\n",
       "        vertical-align: top;\n",
       "    }\n",
       "\n",
       "    .dataframe thead th {\n",
       "        text-align: right;\n",
       "    }\n",
       "</style>\n",
       "<table border=\"1\" class=\"dataframe\">\n",
       "  <thead>\n",
       "    <tr style=\"text-align: right;\">\n",
       "      <th></th>\n",
       "      <th>customer_id</th>\n",
       "      <th>product_id</th>\n",
       "      <th>customer_zip_code_prefix</th>\n",
       "      <th>product_category_name</th>\n",
       "      <th>purchase_count</th>\n",
       "    </tr>\n",
       "  </thead>\n",
       "  <tbody>\n",
       "    <tr>\n",
       "      <th>71727</th>\n",
       "      <td>0d4b78e7e121e21dbdf23cf165fea19b</td>\n",
       "      <td>7a10781637204d8d10485c71a6108a2e</td>\n",
       "      <td>88085</td>\n",
       "      <td>relogios_presentes</td>\n",
       "      <td>1</td>\n",
       "    </tr>\n",
       "    <tr>\n",
       "      <th>69028</th>\n",
       "      <td>ad7e368f155a2a9da1d1599cb84827d0</td>\n",
       "      <td>cc158c284564106f4b668ae02389e2c3</td>\n",
       "      <td>13570</td>\n",
       "      <td>telefonia</td>\n",
       "      <td>1</td>\n",
       "    </tr>\n",
       "    <tr>\n",
       "      <th>68184</th>\n",
       "      <td>ffc25a124da207c0b90a002ebfaa7184</td>\n",
       "      <td>fd939dd54384f5681c327919e8f6a1b8</td>\n",
       "      <td>13660</td>\n",
       "      <td>ferramentas_jardim</td>\n",
       "      <td>1</td>\n",
       "    </tr>\n",
       "    <tr>\n",
       "      <th>17650</th>\n",
       "      <td>4faf7bb3041b910f0a590121c4480f8c</td>\n",
       "      <td>681e1525258578dd8a22a3c249509bf5</td>\n",
       "      <td>86020</td>\n",
       "      <td>malas_acessorios</td>\n",
       "      <td>1</td>\n",
       "    </tr>\n",
       "    <tr>\n",
       "      <th>95750</th>\n",
       "      <td>6a19aac11f8b7b0541420cfd0b4bd3a5</td>\n",
       "      <td>4ae1bd4115a0ea08489ff7e821ddc4e5</td>\n",
       "      <td>20541</td>\n",
       "      <td>moveis_decoracao</td>\n",
       "      <td>1</td>\n",
       "    </tr>\n",
       "  </tbody>\n",
       "</table>\n",
       "</div>"
      ],
      "text/plain": [
       "                            customer_id                        product_id  \\\n",
       "71727  0d4b78e7e121e21dbdf23cf165fea19b  7a10781637204d8d10485c71a6108a2e   \n",
       "69028  ad7e368f155a2a9da1d1599cb84827d0  cc158c284564106f4b668ae02389e2c3   \n",
       "68184  ffc25a124da207c0b90a002ebfaa7184  fd939dd54384f5681c327919e8f6a1b8   \n",
       "17650  4faf7bb3041b910f0a590121c4480f8c  681e1525258578dd8a22a3c249509bf5   \n",
       "95750  6a19aac11f8b7b0541420cfd0b4bd3a5  4ae1bd4115a0ea08489ff7e821ddc4e5   \n",
       "\n",
       "       customer_zip_code_prefix product_category_name  purchase_count  \n",
       "71727                     88085    relogios_presentes               1  \n",
       "69028                     13570             telefonia               1  \n",
       "68184                     13660    ferramentas_jardim               1  \n",
       "17650                     86020      malas_acessorios               1  \n",
       "95750                     20541      moveis_decoracao               1  "
      ]
     },
     "execution_count": 4,
     "metadata": {},
     "output_type": "execute_result"
    }
   ],
   "source": [
    "df_olist_txn.sample(5)"
   ]
  },
  {
   "cell_type": "markdown",
   "metadata": {},
   "source": [
    "Checando distribuição de compras (de 1 a 20) em porcentagem"
   ]
  },
  {
   "cell_type": "code",
   "execution_count": 7,
   "metadata": {},
   "outputs": [
    {
     "data": {
      "text/plain": [
       "purchase_count\n",
       "1     93.078790\n",
       "2      5.256277\n",
       "3      0.930025\n",
       "4      0.380330\n",
       "6      0.168375\n",
       "5      0.163423\n",
       "10     0.004952\n",
       "7      0.003962\n",
       "9      0.001981\n",
       "8      0.001981\n",
       "20     0.001981\n",
       "12     0.001981\n",
       "15     0.001981\n",
       "14     0.001981\n",
       "13     0.000990\n",
       "11     0.000990\n",
       "Name: proportion, dtype: float64"
      ]
     },
     "execution_count": 7,
     "metadata": {},
     "output_type": "execute_result"
    }
   ],
   "source": [
    "df_olist_txn['purchase_count'].value_counts(normalize=True) * 100"
   ]
  },
  {
   "cell_type": "markdown",
   "metadata": {},
   "source": [
    "## Preprocessamento dos dados para a geração de embeddings"
   ]
  },
  {
   "cell_type": "markdown",
   "metadata": {},
   "source": [
    "Remapeando IDs para que fiquem sequênciais e incrementais"
   ]
  },
  {
   "cell_type": "code",
   "execution_count": 23,
   "metadata": {},
   "outputs": [],
   "source": [
    "labels_customer = preprocessing.LabelEncoder()\n",
    "labels_products = preprocessing.LabelEncoder()\n",
    "labels_zip_code = preprocessing.LabelEncoder()\n",
    "labels_category = preprocessing.LabelEncoder()"
   ]
  },
  {
   "cell_type": "code",
   "execution_count": 24,
   "metadata": {},
   "outputs": [],
   "source": [
    "df_olist_txn['customer_id'] = labels_customer.fit_transform(df_olist_txn['customer_id'].values)\n",
    "df_olist_txn['product_id'] = labels_products.fit_transform(df_olist_txn['product_id'].values)\n",
    "df_olist_txn['customer_zip_code_prefix'] = labels_zip_code.fit_transform(df_olist_txn['customer_zip_code_prefix'].values)\n",
    "df_olist_txn['product_category_name'] = labels_category.fit_transform(df_olist_txn['product_category_name'].values)\n"
   ]
  },
  {
   "cell_type": "code",
   "execution_count": 25,
   "metadata": {},
   "outputs": [
    {
     "data": {
      "text/html": [
       "<div>\n",
       "<style scoped>\n",
       "    .dataframe tbody tr th:only-of-type {\n",
       "        vertical-align: middle;\n",
       "    }\n",
       "\n",
       "    .dataframe tbody tr th {\n",
       "        vertical-align: top;\n",
       "    }\n",
       "\n",
       "    .dataframe thead th {\n",
       "        text-align: right;\n",
       "    }\n",
       "</style>\n",
       "<table border=\"1\" class=\"dataframe\">\n",
       "  <thead>\n",
       "    <tr style=\"text-align: right;\">\n",
       "      <th></th>\n",
       "      <th>customer_id</th>\n",
       "      <th>product_id</th>\n",
       "      <th>customer_zip_code_prefix</th>\n",
       "      <th>product_category_name</th>\n",
       "      <th>purchase_count</th>\n",
       "    </tr>\n",
       "  </thead>\n",
       "  <tbody>\n",
       "    <tr>\n",
       "      <th>38738</th>\n",
       "      <td>92894</td>\n",
       "      <td>15855</td>\n",
       "      <td>2153</td>\n",
       "      <td>26</td>\n",
       "      <td>1</td>\n",
       "    </tr>\n",
       "    <tr>\n",
       "      <th>87238</th>\n",
       "      <td>96912</td>\n",
       "      <td>21724</td>\n",
       "      <td>14498</td>\n",
       "      <td>54</td>\n",
       "      <td>2</td>\n",
       "    </tr>\n",
       "    <tr>\n",
       "      <th>24245</th>\n",
       "      <td>62331</td>\n",
       "      <td>30304</td>\n",
       "      <td>391</td>\n",
       "      <td>63</td>\n",
       "      <td>1</td>\n",
       "    </tr>\n",
       "    <tr>\n",
       "      <th>14047</th>\n",
       "      <td>27438</td>\n",
       "      <td>28635</td>\n",
       "      <td>3084</td>\n",
       "      <td>70</td>\n",
       "      <td>1</td>\n",
       "    </tr>\n",
       "    <tr>\n",
       "      <th>15081</th>\n",
       "      <td>6859</td>\n",
       "      <td>21130</td>\n",
       "      <td>11326</td>\n",
       "      <td>66</td>\n",
       "      <td>1</td>\n",
       "    </tr>\n",
       "  </tbody>\n",
       "</table>\n",
       "</div>"
      ],
      "text/plain": [
       "       customer_id  product_id  customer_zip_code_prefix  \\\n",
       "38738        92894       15855                      2153   \n",
       "87238        96912       21724                     14498   \n",
       "24245        62331       30304                       391   \n",
       "14047        27438       28635                      3084   \n",
       "15081         6859       21130                     11326   \n",
       "\n",
       "       product_category_name  purchase_count  \n",
       "38738                     26               1  \n",
       "87238                     54               2  \n",
       "24245                     63               1  \n",
       "14047                     70               1  \n",
       "15081                     66               1  "
      ]
     },
     "execution_count": 25,
     "metadata": {},
     "output_type": "execute_result"
    }
   ],
   "source": [
    "df_olist_txn.sample(5)"
   ]
  },
  {
   "cell_type": "markdown",
   "metadata": {},
   "source": [
    "Dividindo dataset entre conjunto de treinamento e teste"
   ]
  },
  {
   "cell_type": "code",
   "execution_count": 26,
   "metadata": {},
   "outputs": [],
   "source": [
    "df_train, df_test = model_selection.train_test_split(\n",
    "    df_olist_txn,\n",
    "    test_size=0.2,\n",
    "    random_state=12\n",
    ")"
   ]
  },
  {
   "cell_type": "markdown",
   "metadata": {},
   "source": [
    "Configurando dataset para o treinamento do modelo"
   ]
  },
  {
   "cell_type": "code",
   "execution_count": 27,
   "metadata": {},
   "outputs": [],
   "source": [
    "class OlistDataset:\n",
    "    '''\n",
    "    Classe criada com o intuito de ajustar o dataset pandas ao\n",
    "    treinamento de modelos utilizando o PyTorch, especialmente do que se\n",
    "    diz respeito à utilização de lotes (batches) durante o treinamento.\n",
    "    '''\n",
    "    def __init__(self, customers, products, purchases):\n",
    "        self.customers = customers\n",
    "        self.products = products\n",
    "        self.purchases = purchases\n",
    "\n",
    "    def __len__(self):\n",
    "        return (len(self.customers))\n",
    "    \n",
    "    def __getitem__(self, item):\n",
    "\n",
    "        customers = self.customers[item]\n",
    "        products = self.products[item]\n",
    "        purchases = self.purchases[item]\n",
    "\n",
    "        return {\n",
    "            \"user\": torch.tensor(customers, dtype=torch.long),\n",
    "            \"movies\": torch.tensor(products, dtype=torch.long),\n",
    "            \"ratings\": torch.tensor(purchases, dtype=torch.long),\n",
    "        }"
   ]
  },
  {
   "cell_type": "markdown",
   "metadata": {},
   "source": [
    "Criando datasets de treinamento e teste"
   ]
  },
  {
   "cell_type": "code",
   "execution_count": 28,
   "metadata": {},
   "outputs": [],
   "source": [
    "train_dataset = OlistDataset(\n",
    "    customers=df_train['customer_id'].values,\n",
    "    products=df_train['product_id'].values,\n",
    "    purchases=df_train['purchase_count'].values\n",
    ")\n",
    "\n",
    "test_dataset = OlistDataset(\n",
    "    customers=df_test['customer_id'].values,\n",
    "    products=df_test['product_id'].values,\n",
    "    purchases=df_test['purchase_count'].values\n",
    ")"
   ]
  },
  {
   "cell_type": "code",
   "execution_count": 29,
   "metadata": {},
   "outputs": [
    {
     "data": {
      "text/plain": [
       "{'user': tensor([91914, 89644, 54576, 57461, 94005, 80559, 55628, 81226, 36837, 42585]),\n",
       " 'movies': tensor([30394, 23495, 20790, 21139, 29531,  1022,   505, 29287, 25834, 31003]),\n",
       " 'ratings': tensor([3, 1, 1, 1, 1, 1, 1, 1, 1, 1])}"
      ]
     },
     "execution_count": 29,
     "metadata": {},
     "output_type": "execute_result"
    }
   ],
   "source": [
    "train_dataset[:10]"
   ]
  },
  {
   "cell_type": "markdown",
   "metadata": {},
   "source": [
    "Ajustando Data para ser utilizado pelo PyTorch"
   ]
  },
  {
   "cell_type": "code",
   "execution_count": 47,
   "metadata": {},
   "outputs": [],
   "source": [
    "batch_size = 32"
   ]
  },
  {
   "cell_type": "code",
   "execution_count": 48,
   "metadata": {},
   "outputs": [],
   "source": [
    "train_loader = DataLoader(\n",
    "    dataset=train_dataset,\n",
    "    batch_size=batch_size,\n",
    "    shuffle=True,\n",
    "    num_workers=2\n",
    ")\n",
    "\n",
    "test_loader = DataLoader(\n",
    "    dataset=test_dataset,\n",
    "    batch_size=batch_size,\n",
    "    shuffle=True,\n",
    "    num_workers=2\n",
    ")"
   ]
  },
  {
   "cell_type": "markdown",
   "metadata": {},
   "source": [
    "Após isso, toda vez que o DataLoader for requisitado, ele retornará um lote (batch) de 32 itens"
   ]
  },
  {
   "cell_type": "markdown",
   "metadata": {},
   "source": [
    "## Criando modelo de RecSys"
   ]
  },
  {
   "cell_type": "markdown",
   "metadata": {},
   "source": [
    "Criando modelo de RecSys no estilo de torre-dupla"
   ]
  },
  {
   "cell_type": "code",
   "execution_count": 49,
   "metadata": {},
   "outputs": [],
   "source": [
    "class OlistRecSys(nn.Module):\n",
    "    '''\n",
    "    Classe criada com o intuito de modelar a estrutura de torre-dupla,\n",
    "    isto é, um dos modelos clássicos de RecSys baseado em filtragem\n",
    "    colaborativa por meio de redes neurais.\n",
    "    '''\n",
    "    def __init__(self, n_customers, n_products, embedding_size = 32):\n",
    "        super().__init__()\n",
    "        # definindo embedding para clientes e produtos\n",
    "        self.customer_embedding = nn.Embedding(n_customers, embedding_size)\n",
    "        self.products_embedding = nn.Embedding(n_products, embedding_size)\n",
    "        # definindo camada de saída como um neurônio\n",
    "        self.output_layer = nn.Linear(embedding_size * 2, 1)\n",
    "\n",
    "    def forward(self, customers, products, purchases = None):\n",
    "        # criando camada de entrada a partir de embeddings de clientes e produtos\n",
    "        customer_embeddings = self.customer_embedding(customers)\n",
    "        products_embeddings = self.products_embedding(products)\n",
    "        # concatenando embeddings de clientes e produtos\n",
    "        concat_embeddings = torch.cat([customer_embeddings, products_embeddings], dim=1)\n",
    "        output = self.output_layer(concat_embeddings)\n",
    "        return output"
   ]
  },
  {
   "cell_type": "markdown",
   "metadata": {},
   "source": [
    "Configurando dispositivo para utilizar GPU se possível; caso contrário, CPU"
   ]
  },
  {
   "cell_type": "code",
   "execution_count": 50,
   "metadata": {},
   "outputs": [
    {
     "data": {
      "text/plain": [
       "device(type='cuda')"
      ]
     },
     "execution_count": 50,
     "metadata": {},
     "output_type": "execute_result"
    }
   ],
   "source": [
    "mode = 'cuda' if torch.cuda.is_available() else 'cpu'\n",
    "device = torch.device(mode)\n",
    "device"
   ]
  },
  {
   "cell_type": "markdown",
   "metadata": {},
   "source": [
    "Contando quantidade clientes e produtos distintos envolvidos em compras"
   ]
  },
  {
   "cell_type": "code",
   "execution_count": 51,
   "metadata": {},
   "outputs": [
    {
     "data": {
      "text/plain": [
       "(97277, 32341)"
      ]
     },
     "execution_count": 51,
     "metadata": {},
     "output_type": "execute_result"
    }
   ],
   "source": [
    "n_customers = len(labels_customer.classes_)\n",
    "n_products = len(labels_products.classes_)\n",
    "n_customers, n_products"
   ]
  },
  {
   "cell_type": "markdown",
   "metadata": {},
   "source": [
    "Instanciando modelo RecSys, configurando otimizador, taxa de aprendizado e função custo"
   ]
  },
  {
   "cell_type": "code",
   "execution_count": 53,
   "metadata": {},
   "outputs": [],
   "source": [
    "model = OlistRecSys(n_customers, n_products).to(device)\n",
    "\n",
    "optimizer = torch.optim.Adam(model.parameters())\n",
    "scheaduler = torch.optim.lr_scheduler.StepLR(optimizer, step_size=4, gamma=0.7)\n",
    "loss_function = nn.MSELoss()"
   ]
  },
  {
   "cell_type": "markdown",
   "metadata": {},
   "source": [
    "Criando o ciclo de treinamento"
   ]
  },
  {
   "cell_type": "code",
   "execution_count": 54,
   "metadata": {},
   "outputs": [],
   "source": [
    "epochs = 1\n",
    "total_loss = 0\n",
    "plot_steps = 5000\n",
    "print_steps = 5000\n",
    "step_count = 0\n",
    "all_losses_list = []"
   ]
  },
  {
   "cell_type": "code",
   "execution_count": null,
   "metadata": {},
   "outputs": [],
   "source": [
    "model.train()\n",
    "for epoch_index in range(epochs):\n",
    "    for index, train_data in enumerate(train_loader):\n",
    "        # predições do modelo (y-predito)\n",
    "        output = model(train_data['customers'], train_data['products'])\n",
    "        # reformatando y-verdeiro para fical igual ao formato da saída do modelo y predito\n",
    "        purchases = train_data['purchases'].view(batch_size, -1).to(torch.float32)\n",
    "        # calculando o erro do modelo\n",
    "        loss = loss_function(output, purchases)\n",
    "        # somando erro do modelo ao longo dos passos de treinamento\n",
    "        total_loss += loss.sum().item()\n",
    "        # executando ajuste dos pesos no modelo via algoritmo de retropropagação\n",
    "        optimizer.zero_grad()\n",
    "        loss.backward()\n",
    "        optimizer.step()\n",
    "        # contando quantidade de instâncias utilizadas a cada iteração do treinamento\n",
    "        step_count += batch_size\n",
    "\n",
    "        if (step_count % plot_steps == 0):\n",
    "            average_loss = total_loss / ( batch_size * plot_steps)\n",
    "            print(f'epoch {epoch_index} loss at step: {step_count} is {average_loss}')\n",
    "            all_losses_list.append(average_loss)\n",
    "            total_loss = 0"
   ]
  },
  {
   "cell_type": "code",
   "execution_count": null,
   "metadata": {},
   "outputs": [],
   "source": [
    "plt.figure()\n",
    "plt.plot(all_losses_list)\n",
    "plt.show()"
   ]
  },
  {
   "cell_type": "markdown",
   "metadata": {},
   "source": [
    "## Avaliando o modelo"
   ]
  },
  {
   "cell_type": "code",
   "execution_count": null,
   "metadata": {},
   "outputs": [],
   "source": [
    "from sklearn.metrics import mean_squared_error\n",
    "\n",
    "model_output_list = []\n",
    "target_purchasing_list = []\n",
    "\n",
    "model.eval()\n",
    "\n",
    "with torch.no_grad():\n",
    "\n",
    "    for index, test_data in enumerate(test_loader):\n",
    "        output = model(test_data['customers'], test_data['products'])\n",
    "\n",
    "        model_output_list.append(output.sum().item() / batch_size)"
   ]
  }
 ],
 "metadata": {
  "kernelspec": {
   "display_name": "PyTorchEnv",
   "language": "python",
   "name": "python3"
  },
  "language_info": {
   "codemirror_mode": {
    "name": "ipython",
    "version": 3
   },
   "file_extension": ".py",
   "mimetype": "text/x-python",
   "name": "python",
   "nbconvert_exporter": "python",
   "pygments_lexer": "ipython3",
   "version": "3.12.3"
  }
 },
 "nbformat": 4,
 "nbformat_minor": 2
}
